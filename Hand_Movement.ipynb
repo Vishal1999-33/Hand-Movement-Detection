{
 "cells": [
  {
   "cell_type": "code",
   "execution_count": 1,
   "metadata": {},
   "outputs": [],
   "source": [
    "import numpy as np\n",
    "import cv2\n",
    "import argparse\n",
    "from collections import deque"
   ]
  },
  {
   "cell_type": "code",
   "execution_count": 2,
   "metadata": {},
   "outputs": [],
   "source": [
    "cap=cv2.VideoCapture(0)\n",
    "#VideoCapture:Class for video capturing from video files, image sequences or cameras.\n",
    "#cv2.VideoCapture(device):id of the opened video capturing device (i.e. a camera index). If there is a single camera connected, just pass 0."
   ]
  },
  {
   "cell_type": "code",
   "execution_count": 3,
   "metadata": {},
   "outputs": [],
   "source": [
    "pts = deque(maxlen=64)"
   ]
  },
  {
   "cell_type": "code",
   "execution_count": 4,
   "metadata": {},
   "outputs": [],
   "source": [
    "Lower_green = np.array([110,50,50])\n",
    "Upper_green = np.array([130,255,255])"
   ]
  },
  {
   "cell_type": "code",
   "execution_count": 5,
   "metadata": {},
   "outputs": [],
   "source": [
    "while True:\n",
    "    ret, img=cap.read() #.read():Grabs, decodes and returns the next video frame..\n",
    "    hsv=cv2.cvtColor(img,cv2.COLOR_BGR2HSV) #.cvtColor():Converts BGR image into HSV image.\n",
    "    kernel=np.ones((5,5),np.uint8)\n",
    "    mask=cv2.inRange(hsv,Lower_green,Upper_green) #Threshold the HSV image to get only blue colors.\n",
    "    mask = cv2.erode(mask, kernel, iterations=2) #It erodes away the boundaries of foreground object.\n",
    "    mask=cv2.morphologyEx(mask,cv2.MORPH_OPEN,kernel) #It is useful in removing noise.\n",
    "    mask=cv2.morphologyEx(mask,cv2.MORPH_CLOSE,kernel) #It is useful in closing small holes inside the foreground objects.\n",
    "    mask = cv2.dilate(mask, kernel, iterations=1) #It increases the white region in the image or size of foreground object increases.\n",
    "    #(erosion removes white noises, but it also shrinks our object. So we dilate it.)\n",
    "    res=cv2.bitwise_and(img,img,mask=mask) #To merge two images. \n",
    "    cnts,heir=cv2.findContours(mask.copy(),cv2.RETR_EXTERNAL,cv2.CHAIN_APPROX_SIMPLE)[-2:] #Used to find the contours.(first one is source image, second is contour retrieval mode, third is contour approximation method).\n",
    "    center = None\n",
    "    \n",
    "    if len(cnts) > 0:\n",
    "        c = max(cnts, key=cv2.contourArea)\n",
    "        ((x, y), radius) = cv2.minEnclosingCircle(c) #to get minimum enclosing circle around an object of an image.\n",
    "        M = cv2.moments(c) #to extract centroid.\n",
    "        center = (int(M[\"m10\"] / M[\"m00\"]), int(M[\"m01\"] / M[\"m00\"])) #Centroid is given by this relations.\n",
    "        if radius > 5:\n",
    "            cv2.circle(img, (int(x), int(y)), int(radius),(0, 255, 255), 2) #to draw circle with the given dimensions with thickness 2.\n",
    "            cv2.circle(img, center, 5, (0, 0, 255), -1) #to draw a filled circle(negative thickness) with given dimensions.\n",
    "            \n",
    "    pts.appendleft(center) #used to append all the centroids of the blobs detected to left side of the list 'pts'.\n",
    "    for i in range(1,len(pts)): \n",
    "        if pts[i-1] is None or pts[i] is None:\n",
    "               continue\n",
    "        \n",
    "        thick=int(np.sqrt(len(pts)/(i+1))*2.5) #to find thickness of the line to be drawn.\n",
    "        cv2.line(img, pts[i-1],pts[i],(0,0,225),thick) #to draw the line\n",
    "    \n",
    "    cv2.imshow(\"Frame\", img)\n",
    "    cv2.imshow(\"mask\",mask)\n",
    "    cv2.imshow(\"res\",res)\n",
    "    \n",
    "    if cv2.waitKey(60) & 0xFF == ord('q'):\n",
    "        #to cleanup the camera and close any open windows\n",
    "        cap.release()\n",
    "        cv2.destroyAllWindows()\n",
    "        break"
   ]
  }
 ],
 "metadata": {
  "kernelspec": {
   "display_name": "Python 3",
   "language": "python",
   "name": "python3"
  },
  "language_info": {
   "codemirror_mode": {
    "name": "ipython",
    "version": 3
   },
   "file_extension": ".py",
   "mimetype": "text/x-python",
   "name": "python",
   "nbconvert_exporter": "python",
   "pygments_lexer": "ipython3",
   "version": "3.7.3"
  }
 },
 "nbformat": 4,
 "nbformat_minor": 2
}
